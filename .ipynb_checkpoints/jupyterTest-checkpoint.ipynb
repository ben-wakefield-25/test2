{
 "cells": [
  {
   "cell_type": "code",
   "execution_count": 1,
   "id": "299ee345-a169-460a-813b-d1ae38b95d45",
   "metadata": {},
   "outputs": [],
   "source": [
    "import numpy as np"
   ]
  },
  {
   "cell_type": "markdown",
   "id": "ef466cff-cfa2-4cfe-8482-24cb598a4b5c",
   "metadata": {},
   "source": [
    "bwehfwkwk\n",
    "\n",
    "---\n",
    "\n",
    "## Heading \n",
    "\n",
    "#### Sub heading"
   ]
  },
  {
   "cell_type": "code",
   "execution_count": 2,
   "id": "4c202a88-ac9d-4ba3-8759-22bc6476c47c",
   "metadata": {},
   "outputs": [],
   "source": [
    "x = np.sqrt(np.pi)\n"
   ]
  },
  {
   "cell_type": "code",
   "execution_count": 3,
   "id": "082c7fe2-7dbb-455b-a8b2-a363b5b322be",
   "metadata": {},
   "outputs": [
    {
     "name": "stdout",
     "output_type": "stream",
     "text": [
      "1.7724538509055159\n"
     ]
    }
   ],
   "source": [
    "print(x)"
   ]
  }
 ],
 "metadata": {
  "kernelspec": {
   "display_name": "Python [conda env:base] *",
   "language": "python",
   "name": "conda-base-py"
  },
  "language_info": {
   "codemirror_mode": {
    "name": "ipython",
    "version": 3
   },
   "file_extension": ".py",
   "mimetype": "text/x-python",
   "name": "python",
   "nbconvert_exporter": "python",
   "pygments_lexer": "ipython3",
   "version": "3.13.5"
  }
 },
 "nbformat": 4,
 "nbformat_minor": 5
}
